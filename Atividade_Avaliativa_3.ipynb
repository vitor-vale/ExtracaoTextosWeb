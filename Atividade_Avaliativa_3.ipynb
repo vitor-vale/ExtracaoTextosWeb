{
  "nbformat": 4,
  "nbformat_minor": 0,
  "metadata": {
    "colab": {
      "provenance": []
    },
    "kernelspec": {
      "name": "python3",
      "display_name": "Python 3"
    },
    "language_info": {
      "name": "python"
    }
  },
  "cells": [
    {
      "cell_type": "markdown",
      "source": [
        "## Condição de Corrida e Seção Crítica\n",
        "Em sistemas de computação, a condição de corrida ocorre quando duas ou mais operações devem ocorrer na mesma ordem, mas a ordem em que as operações são executadas não é controlada pelo programa, o que resulta em comportamentos inesperados e/ou indeterminados. Estas condições são particularmente comuns in sistemas paralelos e concorrentes, como sistemas distribuídos e sistemas multithread.\n",
        "\n",
        "Devido a sua natureza não determinística é uma situação difícil de prever. A condição de corrida é frequentemente considerada um dos problemas mais difíceis na programação concorrente. Estas condições podem causar problemas, como falhas de segurança, corrupção de dados e comportamentos de sistemas erráticos.\n",
        "\n",
        "Para obter uma melhor compreensão das condições de corrida, vamos examinar un exemplo clássico de um sistema multithread: Imagine que temos duas threads, A e B, que precisam incrementar o valor armazenado em uma variável compartilhada.\n",
        "\n",
        "A operação de incremento normalmente é composta por três passos:\n",
        "\n",
        "1. Ler o valor atual da variável (por exemplo, counter é 0)\n",
        "2. Incrementar o valor (por exemplo, 0 torna-se 1)\n",
        "3. Gravar o valor incrementado de volta à variável\n",
        "\n",
        "No entanto, em um sistema multithread sem controle adequado de acesso, a sequência dessas operações pode ser interrompida, como abaixo:\n",
        "\n",
        "1. A thread A lê o valor atual do counter (0)\n",
        "2. A thread B lê o valor atual do counter (ainda 0, pois A ainda não incrementou o valor)\n",
        "3. A thread A incrementa o valor e grava o valor incrementado de volta (1)\n",
        "4. A thread B, que ainda pensa que o valor é 0, incrementa o valor e grava o valor incrementado de volta (1)\n",
        "\n",
        "Nesta situação, embora A e B tenham tentado aumentar a contagem, a contagem é apenas 1 em vez de 2. Isso é uma situação de competição entre os threads e é um bom exemplo de uma condição de corrida.\n",
        "\n",
        "Para evitar condições de corrida, os programadores usam várias técnicas de controle de concorrência, como bloqueios (por exemplo, mutexes ou semáforos), que garantem que certas operações sejam atômicas, ou seja, indivisíveis. No contexto do exemplo acima, um semáforo pode ser usado para garantir que apenas uma thread possa realizar a operação de incremento de uma vez. Desta forma, a sequência de ler, incrementar e gravar é sempre concluída por uma thread antes que a outra comece, evitando a condição de corrida.\n",
        "\n",
        "Em termos mais gerais, o conceito de 'seção crítica' é usado para denotar um bloco de código que acessa recursos compartilhados e que não deve ser simultaneamente executado por mais de um thread. As técnicas de controle de concorrência visam garantir que apenas um thread possa entrar em sua seção crítica de cada vez.\n",
        "\n",
        "\n",
        "## Vamos ver um Exemplo"
      ],
      "metadata": {
        "id": "N1gxN69U-7Ip"
      }
    },
    {
      "cell_type": "code",
      "execution_count": null,
      "metadata": {
        "id": "yxnZvSeP-kHw"
      },
      "outputs": [],
      "source": [
        "import threading\n",
        "\n",
        "# um objeto compartilhado\n",
        "counter = 0\n",
        "\n",
        "# função que será executada pelas threads\n",
        "def increment_counter(thread_name):\n",
        "    global counter\n",
        "    for _ in range(5):  # reduzindo o número de operações para simplificar a visualização\n",
        "        print(f\"{thread_name} está incrementando o contador.\")\n",
        "        counter += 1\n",
        "        print(f\"{thread_name} incrementou o contador. Valor do contador: {counter}\")\n",
        "\n",
        "# criação de 3 threads\n",
        "threads = []\n",
        "for i in range(3):\n",
        "    t = threading.Thread(target=increment_counter, args=(f\"Thread {i + 1}\",))\n",
        "    threads.append(t)\n",
        "    t.start()\n",
        "\n",
        "# espera todas as threads terminarem\n",
        "for t in threads:\n",
        "    t.join()\n",
        "\n",
        "print(f\"\\nValor final do contador: {counter}\")\n",
        "print(\"Valor esperado do contador: 15\")  # 3 threads * 5 incrementos cada = 15\n"
      ]
    },
    {
      "cell_type": "markdown",
      "source": [
        "\n",
        "## O problema\n",
        "No código acima deveríamos ter uma condição de corrida, não há nada que garanta que um thread não vá sobrescrever o valor do outro. Contudo, é python, então o GIL  (Global Interpreter Lock) não deixa o código CPU-Bond ser executado em paralelo, logo não há sobreposição de escrita no objeto compartilhado (Global) counter."
      ],
      "metadata": {
        "id": "7d8pLG30_N-V"
      }
    },
    {
      "cell_type": "markdown",
      "source": [
        "## solucionando nada.\n",
        "Como não há problema, por causa do GIL, a criação do semáforo é meramente didática.\n",
        "\n",
        "## Agora vamos forçar um problema de condição de corrida\n",
        "Na maioria das linguagens, a condição de corrida é mais propensa a ocorrer quando temos uma operação que envolve mais de um passo e que é interrompida entre esses passos. Vamos tentar dividindo o incremento em duas etapas: uma para leitura e outra para gravação."
      ],
      "metadata": {
        "id": "O5r3OqOb_c7a"
      }
    },
    {
      "cell_type": "markdown",
      "source": [
        "## Finalmente, o problema\n",
        "Neste exemplo, conseguimos provocar uma condição de corrida. Novamente, só para lembrar, se fosse o java, ou o C++, talvez não precisássemos dividir a tarefa do thread em dois tempos. Como não há nenhuma restrição no compilador destas duas linguagens (ou interpretador) que é o caso do java, então existe uma chance de que dois threads tentem escrever ao mesmo tempo.\n",
        "\n",
        "## Agora vamos corrigir de verdade.\n",
        "Vou criar o semáforo, ativar e desativar nos lugares certos para garantir que não exista a condição de corrida."
      ],
      "metadata": {
        "id": "EQY8c2xu_g0z"
      }
    },
    {
      "cell_type": "code",
      "source": [
        "import threading\n",
        "import time\n",
        "\n",
        "# Inicializando o objeto compartilhado\n",
        "counter = 0\n",
        "# Criando um semáforo. Um semáforo é usado para controlar o acesso a um recurso comum.\n",
        "semaphore = threading.Semaphore()\n",
        "\n",
        "def increment_counter(thread_name):\n",
        "    global counter\n",
        "    for _ in range(3):\n",
        "        # Cada thread deve adquirir o semáforo antes de poder ler/modificar o contador\n",
        "        semaphore.acquire()\n",
        "\n",
        "        print(f\"{thread_name} está lendo o contador.\")\n",
        "        value = counter\n",
        "\n",
        "        print(f\"{thread_name} incrementará o contador.\")\n",
        "        time.sleep(0.1)  # Simulando algum atraso\n",
        "\n",
        "        counter = value + 1\n",
        "        print(f\"{thread_name} incrementou o contador. Valor do contador: {counter}\")\n",
        "\n",
        "        # Depois que a thread terminou de modificar o contador, ela deve liberar o semáforo.\n",
        "        # Isso permite que outras threads adquiram o semáforo e modifiquem o contador.\n",
        "        semaphore.release()\n",
        "\n",
        "# Criando as threads\n",
        "threads = []\n",
        "for i in range(3):\n",
        "    # Criando uma nova thread\n",
        "    t = threading.Thread(target=increment_counter, args=(f\"Thread {i + 1}\",))\n",
        "    threads.append(t)\n",
        "    t.start()  # Iniciando a thread\n",
        "\n",
        "# Esperando todas as threads terminarem antes de mostrar o valor final do contador\n",
        "for t in threads:\n",
        "    t.join()\n",
        "\n",
        "print(f\"\\nValor final do contador: {counter}\")\n",
        "print(\"Valor esperado do contador: 9\")  # 3 threads * 3 incrementos cada = 9\n"
      ],
      "metadata": {
        "id": "FDB2f5QQ_kQI"
      },
      "execution_count": null,
      "outputs": []
    },
    {
      "cell_type": "markdown",
      "source": [
        "## Um exemplo de como usar a Beautifullsoap"
      ],
      "metadata": {
        "id": "CI5GKHJI_oUa"
      }
    },
    {
      "cell_type": "code",
      "source": [
        "# Importando as bibliotecas necessárias\n",
        "import requests\n",
        "from bs4 import BeautifulSoup\n",
        "\n",
        "# A URL da página da web que você quer acessar\n",
        "url = \"https://en.wikipedia.org/wiki/Race_condition#:~:text=A%20race%20condition%20can%20arise,bugs%20due%20to%20unanticipated%20behavior\"\n",
        "\n",
        "# Enviar uma requisição GET para a página da web\n",
        "response = requests.get(url)\n",
        "\n",
        "# Inicializar um objeto BeautifulSoup com o conteúdo da página\n",
        "soup = BeautifulSoup(response.content, 'html.parser')\n",
        "\n",
        "# Extrair todo o texto da página (sem tags HTML) e armazená-lo em uma variável\n",
        "page_text = soup.get_text()\n",
        "\n",
        "# Imprimir o texto da página\n",
        "print(page_text)\n"
      ],
      "metadata": {
        "id": "EAw-54LC_nuQ"
      },
      "execution_count": null,
      "outputs": []
    },
    {
      "cell_type": "markdown",
      "source": [
        "# Atividade Prática Avaliativa Em Grupo - RA3-1\n",
        "Para realizar esta atividade e conseguir os pontos equivalentes na média da RA-3 você deve fazer uma cópia deste notebook, manter inalterado este enunciado, incluir o nome de todos os componentes do grupo e, finalmente resolver o exercício a seguir em uma célula de código:\n",
        "\n",
        "Seu objetivo é escrever um programa Python que recupere o texto de cinco páginas diferentes da Wikipedia. Cada página deve ser recuperada por uma thread diferente.\n",
        "\n",
        "O programa deve cumprir os seguintes requisitos:\n",
        "\n",
        "1. Use a biblioteca requests para realizar requisições HTTP GET para as páginas da Wikipedia.\n",
        "2. Use a biblioteca BeautifulSoup para extrair o texto das páginas da web.\n",
        "3. Crie uma thread para cada página da Wikipedia que você está acessando.\n",
        "4. Cada thread deve escrever o texto extraído no mesmo arquivo de texto compartilhado.\n",
        "5. Garanta que não ocorram condições de corrida ao escrever no arquivo de texto compartilhado.\n",
        "6. O thread que gravou cada texto no arquivo deve ser identificado no próprio texto gravado e em uma impressão no terminal que permita acompanhar o processo de gravação.\n",
        "\n",
        "Lembre-se não podem haver condições de corrida. Use semáforos.\n"
      ],
      "metadata": {
        "id": "TCzN6d42_w_f"
      }
    },
    {
      "cell_type": "code",
      "source": [
        "#Grupo: Andrey Bonat, Bruno Miglioretto, Vítor Vale\n",
        "\n",
        "import threading\n",
        "import requests\n",
        "from bs4 import BeautifulSoup\n",
        "import time\n",
        "\n",
        "urls = [\"https://pt.wikipedia.org/wiki/Capivara\",\n",
        "       \"https://pt.wikipedia.org/wiki/Marvel_Comics\",\n",
        "       \"https://pt.wikipedia.org/wiki/Ci%C3%AAncia_da_computa%C3%A7%C3%A3o\",\n",
        "       \"https://pt.wikipedia.org/wiki/Wikip%C3%A9dia\",\n",
        "       \"https://pt.wikipedia.org/wiki/Cultura_da_Regi%C3%A3o_Nordeste_do_Brasil\"]\n",
        "counter = 0\n",
        "file = open(\"textos.txt\", \"a\")\n",
        "semaphore = threading.Semaphore()\n",
        "\n",
        "def ExtrairTexto(url, i):\n",
        "    global file\n",
        "    response = requests.get(url)\n",
        "    soup = BeautifulSoup(response.content, 'html.parser')\n",
        "    page_text = soup.get_text()\n",
        "    separator = \"------------------------------------------------\" + str(i) + \"------------------------------------------------\\n\"\n",
        "    semaphore.acquire()\n",
        "    file.write(separator)\n",
        "    print(\"Id Thread: \", i)\n",
        "    file.write(page_text)\n",
        "    semaphore.release()\n",
        "\n",
        "threads = []\n",
        "for i,url in enumerate(urls):\n",
        "    t = threading.Thread(target=ExtrairTexto, args=(url,i))\n",
        "    threads.append(t)\n",
        "    t.start()\n",
        "\n",
        "for t in threads:\n",
        "    t.join()\n",
        "\n",
        "file.close()"
      ],
      "metadata": {
        "colab": {
          "base_uri": "https://localhost:8080/"
        },
        "id": "f_iWRONE__5H",
        "outputId": "c655e8bd-7ad8-4e06-bc00-2c10921a2372"
      },
      "execution_count": null,
      "outputs": [
        {
          "output_type": "stream",
          "name": "stdout",
          "text": [
            "Id Thread:  4\n",
            "Id Thread:  1\n",
            "Id Thread:  2\n",
            "Id Thread:  0\n",
            "Id Thread:  3\n",
            "1.5246961116790771\n"
          ]
        }
      ]
    },
    {
      "cell_type": "code",
      "source": [],
      "metadata": {
        "id": "DX2eNR2cKcsc"
      },
      "execution_count": null,
      "outputs": []
    }
  ]
}